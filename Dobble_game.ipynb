{
  "nbformat": 4,
  "nbformat_minor": 0,
  "metadata": {
    "colab": {
      "provenance": []
    },
    "kernelspec": {
      "name": "python3",
      "display_name": "Python 3"
    },
    "language_info": {
      "name": "python"
    }
  },
  "cells": [
    {
      "cell_type": "code",
      "execution_count": 7,
      "metadata": {
        "colab": {
          "base_uri": "https://localhost:8080/"
        },
        "id": "sD8_aonJGlh4",
        "outputId": "1a948b36-552b-4ec4-c6d1-f8b5731fce73"
      },
      "outputs": [
        {
          "output_type": "stream",
          "name": "stdout",
          "text": [
            "Card 1\n",
            "['v', 'm', 'e', 'w', 'D']\n",
            "Card 2\n",
            "['N', 'm', 'k', 'O', 'F']\n",
            "spot the similar symbolm\n",
            "correct\n"
          ]
        }
      ],
      "source": [
        "# Dobble game - spot the similarity\n",
        "import random\n",
        "import string\n",
        "symbols=[]\n",
        "symbols=list(string.ascii_letters)\n",
        "card1=[0]*5\n",
        "card2=[0]*5\n",
        "pos1=random.randint(0,4)\n",
        "pos2=random.randint(0,4)\n",
        "\n",
        "#pos1 and pos2 are same symbol positions in card1 and card2 repsectively\n",
        "samesymbol=random.choice(symbols)\n",
        "symbols.remove(samesymbol)\n",
        "if(pos1==pos2):\n",
        "  card1[pos1]=samesymbol\n",
        "  card2[pos2]=samesymbol\n",
        "else:\n",
        "  card1[pos1]=samesymbol\n",
        "  card2[pos2]=samesymbol\n",
        "  card1[pos2]=samesymbol\n",
        "  symbols.remove(card1[pos2])\n",
        "  card2[pos1]=random.choice(symbol)\n",
        "  symbols.remove(card2[pos1])\n",
        "i=0\n",
        "while(i<5):\n",
        "  if(i!=pos1 and i!=pos2):\n",
        "    alphabet1=random.choice(symbols)\n",
        "    symbols.remove(alphabet1)\n",
        "    alphabet2=random.choice(symbols)\n",
        "    symbols.remove(alphabet2)\n",
        "    card1[i]=alphabet1\n",
        "    card2[i]=alphabet2\n",
        "  i=i+1\n",
        "\n",
        "print(\"Card 1\")\n",
        "print(card1)\n",
        "print(\"Card 2\")\n",
        "print(card2)\n",
        "ch=input(\"spot the similar symbol\")\n",
        "if(ch==samesymbol):\n",
        "  print(\"correct\")\n",
        "else:\n",
        "  print(\"wrong\")\n",
        "\n"
      ]
    }
  ]
}